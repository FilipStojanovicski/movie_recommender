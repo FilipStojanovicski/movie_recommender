{
 "cells": [
  {
   "cell_type": "markdown",
   "id": "2acd4449",
   "metadata": {},
   "source": [
    "# Import Libraries"
   ]
  },
  {
   "cell_type": "code",
   "execution_count": 1,
   "id": "7a8c0c76",
   "metadata": {},
   "outputs": [],
   "source": [
    "import os\n",
    "import pandas as pd\n",
    "import numpy as np\n",
    "from sqlalchemy import create_engine, MetaData, Table\n",
    "from sqlalchemy.orm import sessionmaker, relationship\n",
    "from sqlalchemy.ext.declarative import declarative_base\n",
    "from datetime import datetime"
   ]
  },
  {
   "cell_type": "markdown",
   "id": "f6431abd",
   "metadata": {},
   "source": [
    "# Credentials"
   ]
  },
  {
   "cell_type": "code",
   "execution_count": 2,
   "id": "f029c29f",
   "metadata": {},
   "outputs": [],
   "source": [
    "pg_user_dev = 'postgres'\n",
    "pg_pass_dev = 'admin'\n",
    "pg_db_dev = 'postgres'\n",
    "pg_host_dev = 'localhost'\n",
    "pg_port_dev = 5432\n",
    "DEV_DB = f\"postgresql://{pg_user_dev}:{pg_pass_dev}@{pg_host_dev}:{pg_port_dev}/{pg_db_dev}\""
   ]
  },
  {
   "cell_type": "markdown",
   "id": "c480c60f",
   "metadata": {},
   "source": [
    "# Create Engine"
   ]
  },
  {
   "cell_type": "code",
   "execution_count": 3,
   "id": "33003a5d",
   "metadata": {},
   "outputs": [],
   "source": [
    "# Start the session\n",
    "engine = create_engine(DEV_DB, echo=False, client_encoding=\"UTF-8\")\n",
    "Session = sessionmaker(bind=engine)\n",
    "Session.configure(bind=engine)\n",
    "session = Session()\n",
    "meta = MetaData(bind=engine)\n",
    "Base = declarative_base()"
   ]
  },
  {
   "cell_type": "markdown",
   "id": "dc849a8f",
   "metadata": {},
   "source": [
    "# Delete Schema and Tables"
   ]
  },
  {
   "cell_type": "code",
   "execution_count": 4,
   "id": "54bd30f6",
   "metadata": {},
   "outputs": [],
   "source": [
    "session.execute(\"DROP SCHEMA IF EXISTS movie_recommender CASCADE;\")\n",
    "session.commit()"
   ]
  },
  {
   "cell_type": "code",
   "execution_count": 5,
   "id": "301826ec",
   "metadata": {},
   "outputs": [],
   "source": [
    "session.execute(\"CREATE SCHEMA IF NOT EXISTS movie_recommender;\")\n",
    "session.commit()"
   ]
  },
  {
   "cell_type": "code",
   "execution_count": 6,
   "id": "792c512e",
   "metadata": {},
   "outputs": [
    {
     "name": "stderr",
     "output_type": "stream",
     "text": [
      "/Users/filipstoja/opt/anaconda3/envs/movie_recommender/lib/python3.8/site-packages/flask_sqlalchemy/__init__.py:872: FSADeprecationWarning: SQLALCHEMY_TRACK_MODIFICATIONS adds significant overhead and will be disabled by default in the future.  Set it to True or False to suppress this warning.\n",
      "  warnings.warn(FSADeprecationWarning(\n"
     ]
    }
   ],
   "source": [
    "import sys\n",
    "sys.path.append(\"../recommender_app\")\n",
    "from main import db"
   ]
  },
  {
   "cell_type": "code",
   "execution_count": 7,
   "id": "02661119",
   "metadata": {},
   "outputs": [],
   "source": [
    "db.create_all()"
   ]
  },
  {
   "cell_type": "markdown",
   "id": "7995d022",
   "metadata": {},
   "source": [
    "# Declare Tables"
   ]
  },
  {
   "cell_type": "code",
   "execution_count": 8,
   "id": "78735bde",
   "metadata": {},
   "outputs": [],
   "source": [
    "# Read in tables from the database\n",
    "class MovieUsers(Base):\n",
    "    __table__ = Table('movie_users', meta, autoload=True, schema=\"movie_recommender\")\n",
    "    ratings = relationship('Ratings', backref='movie_users', lazy=True)\n",
    "    tags = relationship('Tags', backref='movie_users', lazy=True)\n",
    "\n",
    "# Read in tables from the database\n",
    "class Movies(Base):\n",
    "    __table__ = Table('movies', meta, autoload=True, schema=\"movie_recommender\")\n",
    "    ratings = relationship('Ratings', backref='movies', lazy=True)\n",
    "    tags = relationship('Tags', backref='movies', lazy=True)\n",
    "    links = relationship('Links', backref='movies', uselist=False, lazy=True)\n",
    "\n",
    "\n",
    "class Ratings(Base):\n",
    "    __table__ = Table('ratings', meta, autoload=True, schema=\"movie_recommender\")\n",
    "\n",
    "class Tags(Base):\n",
    "    __table__ = Table('tags', meta, autoload=True, schema=\"movie_recommender\")\n",
    "\n",
    "class Links(Base):\n",
    "    __table__ = Table('links', meta, autoload=True, schema=\"movie_recommender\")"
   ]
  },
  {
   "cell_type": "markdown",
   "id": "ca5b066f",
   "metadata": {},
   "source": [
    "# Read in Data"
   ]
  },
  {
   "cell_type": "code",
   "execution_count": 9,
   "id": "bd6a660b",
   "metadata": {},
   "outputs": [],
   "source": [
    "movies = pd.read_csv(\"data/movies.csv\")\n",
    "ratings = pd.read_csv('data/ratings.csv')\n",
    "tags = pd.read_csv('data/tags.csv')\n",
    "links = pd.read_csv('data/links.csv')"
   ]
  },
  {
   "cell_type": "markdown",
   "id": "908405db",
   "metadata": {},
   "source": [
    "# Upload Movies"
   ]
  },
  {
   "cell_type": "code",
   "execution_count": 10,
   "id": "25d6d349",
   "metadata": {},
   "outputs": [
    {
     "data": {
      "text/html": [
       "<div>\n",
       "<style scoped>\n",
       "    .dataframe tbody tr th:only-of-type {\n",
       "        vertical-align: middle;\n",
       "    }\n",
       "\n",
       "    .dataframe tbody tr th {\n",
       "        vertical-align: top;\n",
       "    }\n",
       "\n",
       "    .dataframe thead th {\n",
       "        text-align: right;\n",
       "    }\n",
       "</style>\n",
       "<table border=\"1\" class=\"dataframe\">\n",
       "  <thead>\n",
       "    <tr style=\"text-align: right;\">\n",
       "      <th></th>\n",
       "      <th>movieId</th>\n",
       "      <th>title</th>\n",
       "      <th>genres</th>\n",
       "    </tr>\n",
       "  </thead>\n",
       "  <tbody>\n",
       "    <tr>\n",
       "      <th>0</th>\n",
       "      <td>1</td>\n",
       "      <td>Toy Story (1995)</td>\n",
       "      <td>Adventure|Animation|Children|Comedy|Fantasy</td>\n",
       "    </tr>\n",
       "    <tr>\n",
       "      <th>1</th>\n",
       "      <td>2</td>\n",
       "      <td>Jumanji (1995)</td>\n",
       "      <td>Adventure|Children|Fantasy</td>\n",
       "    </tr>\n",
       "    <tr>\n",
       "      <th>2</th>\n",
       "      <td>3</td>\n",
       "      <td>Grumpier Old Men (1995)</td>\n",
       "      <td>Comedy|Romance</td>\n",
       "    </tr>\n",
       "    <tr>\n",
       "      <th>3</th>\n",
       "      <td>4</td>\n",
       "      <td>Waiting to Exhale (1995)</td>\n",
       "      <td>Comedy|Drama|Romance</td>\n",
       "    </tr>\n",
       "    <tr>\n",
       "      <th>4</th>\n",
       "      <td>5</td>\n",
       "      <td>Father of the Bride Part II (1995)</td>\n",
       "      <td>Comedy</td>\n",
       "    </tr>\n",
       "  </tbody>\n",
       "</table>\n",
       "</div>"
      ],
      "text/plain": [
       "   movieId                               title  \\\n",
       "0        1                    Toy Story (1995)   \n",
       "1        2                      Jumanji (1995)   \n",
       "2        3             Grumpier Old Men (1995)   \n",
       "3        4            Waiting to Exhale (1995)   \n",
       "4        5  Father of the Bride Part II (1995)   \n",
       "\n",
       "                                        genres  \n",
       "0  Adventure|Animation|Children|Comedy|Fantasy  \n",
       "1                   Adventure|Children|Fantasy  \n",
       "2                               Comedy|Romance  \n",
       "3                         Comedy|Drama|Romance  \n",
       "4                                       Comedy  "
      ]
     },
     "execution_count": 10,
     "metadata": {},
     "output_type": "execute_result"
    }
   ],
   "source": [
    "movies.head()"
   ]
  },
  {
   "cell_type": "code",
   "execution_count": 11,
   "id": "4447af9d",
   "metadata": {},
   "outputs": [],
   "source": [
    "movies['genres'] = movies['genres'].apply(lambda x: x.split(\"|\"))"
   ]
  },
  {
   "cell_type": "code",
   "execution_count": 12,
   "id": "0c14ab0d",
   "metadata": {},
   "outputs": [],
   "source": [
    "movies_agg = movies.explode('genres')"
   ]
  },
  {
   "cell_type": "code",
   "execution_count": 13,
   "id": "1c60820f",
   "metadata": {},
   "outputs": [],
   "source": [
    "movies_agg = pd.pivot_table(movies_agg, values = 'movieId', index = 'movieId',\n",
    "               columns = 'genres', aggfunc = len).reset_index()"
   ]
  },
  {
   "cell_type": "code",
   "execution_count": 14,
   "id": "89757e21",
   "metadata": {},
   "outputs": [],
   "source": [
    "movies_agg.columns = ['genre_' + x.lower().replace(\" \", \"_\").replace(\"-\",\"_\").replace(\"(\",\"\").replace(\")\",\"\") \\\n",
    "                      if x != 'movieId' else x for x in movies_agg.columns]"
   ]
  },
  {
   "cell_type": "code",
   "execution_count": 15,
   "id": "09af21a0",
   "metadata": {},
   "outputs": [],
   "source": [
    "movies_agg = movies_agg.fillna(0)"
   ]
  },
  {
   "cell_type": "code",
   "execution_count": 16,
   "id": "9be7ebfc",
   "metadata": {},
   "outputs": [],
   "source": [
    "for col in [x for x in movies_agg.columns if 'genre_' in x]:\n",
    "    movies_agg[col] = movies_agg[col].astype(bool)"
   ]
  },
  {
   "cell_type": "code",
   "execution_count": 17,
   "id": "f03ec15d",
   "metadata": {},
   "outputs": [],
   "source": [
    "movies = movies.drop(columns = 'genres').merge(movies_agg, on = 'movieId')"
   ]
  },
  {
   "cell_type": "code",
   "execution_count": 18,
   "id": "1257eb51",
   "metadata": {},
   "outputs": [
    {
     "data": {
      "text/plain": [
       "movieId                   0\n",
       "title                     0\n",
       "genre_no_genres_listed    0\n",
       "genre_action              0\n",
       "genre_adventure           0\n",
       "genre_animation           0\n",
       "genre_children            0\n",
       "genre_comedy              0\n",
       "genre_crime               0\n",
       "genre_documentary         0\n",
       "genre_drama               0\n",
       "genre_fantasy             0\n",
       "genre_film_noir           0\n",
       "genre_horror              0\n",
       "genre_imax                0\n",
       "genre_musical             0\n",
       "genre_mystery             0\n",
       "genre_romance             0\n",
       "genre_sci_fi              0\n",
       "genre_thriller            0\n",
       "genre_war                 0\n",
       "genre_western             0\n",
       "dtype: int64"
      ]
     },
     "execution_count": 18,
     "metadata": {},
     "output_type": "execute_result"
    }
   ],
   "source": [
    "movies.isna().sum()"
   ]
  },
  {
   "cell_type": "code",
   "execution_count": 19,
   "id": "88c57541",
   "metadata": {
    "scrolled": false
   },
   "outputs": [
    {
     "data": {
      "text/plain": [
       "movieId                   9742\n",
       "title                     9737\n",
       "genre_no_genres_listed       2\n",
       "genre_action                 2\n",
       "genre_adventure              2\n",
       "genre_animation              2\n",
       "genre_children               2\n",
       "genre_comedy                 2\n",
       "genre_crime                  2\n",
       "genre_documentary            2\n",
       "genre_drama                  2\n",
       "genre_fantasy                2\n",
       "genre_film_noir              2\n",
       "genre_horror                 2\n",
       "genre_imax                   2\n",
       "genre_musical                2\n",
       "genre_mystery                2\n",
       "genre_romance                2\n",
       "genre_sci_fi                 2\n",
       "genre_thriller               2\n",
       "genre_war                    2\n",
       "genre_western                2\n",
       "dtype: int64"
      ]
     },
     "execution_count": 19,
     "metadata": {},
     "output_type": "execute_result"
    }
   ],
   "source": [
    "movies.nunique()"
   ]
  },
  {
   "cell_type": "code",
   "execution_count": 20,
   "id": "95a099cd",
   "metadata": {},
   "outputs": [
    {
     "data": {
      "text/html": [
       "<div>\n",
       "<style scoped>\n",
       "    .dataframe tbody tr th:only-of-type {\n",
       "        vertical-align: middle;\n",
       "    }\n",
       "\n",
       "    .dataframe tbody tr th {\n",
       "        vertical-align: top;\n",
       "    }\n",
       "\n",
       "    .dataframe thead th {\n",
       "        text-align: right;\n",
       "    }\n",
       "</style>\n",
       "<table border=\"1\" class=\"dataframe\">\n",
       "  <thead>\n",
       "    <tr style=\"text-align: right;\">\n",
       "      <th></th>\n",
       "      <th>userId</th>\n",
       "      <th>movieId</th>\n",
       "      <th>rating</th>\n",
       "      <th>timestamp</th>\n",
       "    </tr>\n",
       "  </thead>\n",
       "  <tbody>\n",
       "  </tbody>\n",
       "</table>\n",
       "</div>"
      ],
      "text/plain": [
       "Empty DataFrame\n",
       "Columns: [userId, movieId, rating, timestamp]\n",
       "Index: []"
      ]
     },
     "execution_count": 20,
     "metadata": {},
     "output_type": "execute_result"
    }
   ],
   "source": [
    "# All of the rated movies have a genre\n",
    "ratings[~ratings['movieId'].isin(movies['movieId'])]"
   ]
  },
  {
   "cell_type": "code",
   "execution_count": 21,
   "id": "85f7e8ae",
   "metadata": {},
   "outputs": [
    {
     "data": {
      "text/plain": [
       "[{'movieId': 1,\n",
       "  'title': 'Toy Story (1995)',\n",
       "  'genre_no_genres_listed': False,\n",
       "  'genre_action': False,\n",
       "  'genre_adventure': True,\n",
       "  'genre_animation': True,\n",
       "  'genre_children': True,\n",
       "  'genre_comedy': True,\n",
       "  'genre_crime': False,\n",
       "  'genre_documentary': False,\n",
       "  'genre_drama': False,\n",
       "  'genre_fantasy': True,\n",
       "  'genre_film_noir': False,\n",
       "  'genre_horror': False,\n",
       "  'genre_imax': False,\n",
       "  'genre_musical': False,\n",
       "  'genre_mystery': False,\n",
       "  'genre_romance': False,\n",
       "  'genre_sci_fi': False,\n",
       "  'genre_thriller': False,\n",
       "  'genre_war': False,\n",
       "  'genre_western': False},\n",
       " {'movieId': 2,\n",
       "  'title': 'Jumanji (1995)',\n",
       "  'genre_no_genres_listed': False,\n",
       "  'genre_action': False,\n",
       "  'genre_adventure': True,\n",
       "  'genre_animation': False,\n",
       "  'genre_children': True,\n",
       "  'genre_comedy': False,\n",
       "  'genre_crime': False,\n",
       "  'genre_documentary': False,\n",
       "  'genre_drama': False,\n",
       "  'genre_fantasy': True,\n",
       "  'genre_film_noir': False,\n",
       "  'genre_horror': False,\n",
       "  'genre_imax': False,\n",
       "  'genre_musical': False,\n",
       "  'genre_mystery': False,\n",
       "  'genre_romance': False,\n",
       "  'genre_sci_fi': False,\n",
       "  'genre_thriller': False,\n",
       "  'genre_war': False,\n",
       "  'genre_western': False},\n",
       " {'movieId': 3,\n",
       "  'title': 'Grumpier Old Men (1995)',\n",
       "  'genre_no_genres_listed': False,\n",
       "  'genre_action': False,\n",
       "  'genre_adventure': False,\n",
       "  'genre_animation': False,\n",
       "  'genre_children': False,\n",
       "  'genre_comedy': True,\n",
       "  'genre_crime': False,\n",
       "  'genre_documentary': False,\n",
       "  'genre_drama': False,\n",
       "  'genre_fantasy': False,\n",
       "  'genre_film_noir': False,\n",
       "  'genre_horror': False,\n",
       "  'genre_imax': False,\n",
       "  'genre_musical': False,\n",
       "  'genre_mystery': False,\n",
       "  'genre_romance': True,\n",
       "  'genre_sci_fi': False,\n",
       "  'genre_thriller': False,\n",
       "  'genre_war': False,\n",
       "  'genre_western': False},\n",
       " {'movieId': 4,\n",
       "  'title': 'Waiting to Exhale (1995)',\n",
       "  'genre_no_genres_listed': False,\n",
       "  'genre_action': False,\n",
       "  'genre_adventure': False,\n",
       "  'genre_animation': False,\n",
       "  'genre_children': False,\n",
       "  'genre_comedy': True,\n",
       "  'genre_crime': False,\n",
       "  'genre_documentary': False,\n",
       "  'genre_drama': True,\n",
       "  'genre_fantasy': False,\n",
       "  'genre_film_noir': False,\n",
       "  'genre_horror': False,\n",
       "  'genre_imax': False,\n",
       "  'genre_musical': False,\n",
       "  'genre_mystery': False,\n",
       "  'genre_romance': True,\n",
       "  'genre_sci_fi': False,\n",
       "  'genre_thriller': False,\n",
       "  'genre_war': False,\n",
       "  'genre_western': False},\n",
       " {'movieId': 5,\n",
       "  'title': 'Father of the Bride Part II (1995)',\n",
       "  'genre_no_genres_listed': False,\n",
       "  'genre_action': False,\n",
       "  'genre_adventure': False,\n",
       "  'genre_animation': False,\n",
       "  'genre_children': False,\n",
       "  'genre_comedy': True,\n",
       "  'genre_crime': False,\n",
       "  'genre_documentary': False,\n",
       "  'genre_drama': False,\n",
       "  'genre_fantasy': False,\n",
       "  'genre_film_noir': False,\n",
       "  'genre_horror': False,\n",
       "  'genre_imax': False,\n",
       "  'genre_musical': False,\n",
       "  'genre_mystery': False,\n",
       "  'genre_romance': False,\n",
       "  'genre_sci_fi': False,\n",
       "  'genre_thriller': False,\n",
       "  'genre_war': False,\n",
       "  'genre_western': False},\n",
       " {'movieId': 6,\n",
       "  'title': 'Heat (1995)',\n",
       "  'genre_no_genres_listed': False,\n",
       "  'genre_action': True,\n",
       "  'genre_adventure': False,\n",
       "  'genre_animation': False,\n",
       "  'genre_children': False,\n",
       "  'genre_comedy': False,\n",
       "  'genre_crime': True,\n",
       "  'genre_documentary': False,\n",
       "  'genre_drama': False,\n",
       "  'genre_fantasy': False,\n",
       "  'genre_film_noir': False,\n",
       "  'genre_horror': False,\n",
       "  'genre_imax': False,\n",
       "  'genre_musical': False,\n",
       "  'genre_mystery': False,\n",
       "  'genre_romance': False,\n",
       "  'genre_sci_fi': False,\n",
       "  'genre_thriller': True,\n",
       "  'genre_war': False,\n",
       "  'genre_western': False},\n",
       " {'movieId': 7,\n",
       "  'title': 'Sabrina (1995)',\n",
       "  'genre_no_genres_listed': False,\n",
       "  'genre_action': False,\n",
       "  'genre_adventure': False,\n",
       "  'genre_animation': False,\n",
       "  'genre_children': False,\n",
       "  'genre_comedy': True,\n",
       "  'genre_crime': False,\n",
       "  'genre_documentary': False,\n",
       "  'genre_drama': False,\n",
       "  'genre_fantasy': False,\n",
       "  'genre_film_noir': False,\n",
       "  'genre_horror': False,\n",
       "  'genre_imax': False,\n",
       "  'genre_musical': False,\n",
       "  'genre_mystery': False,\n",
       "  'genre_romance': True,\n",
       "  'genre_sci_fi': False,\n",
       "  'genre_thriller': False,\n",
       "  'genre_war': False,\n",
       "  'genre_western': False},\n",
       " {'movieId': 8,\n",
       "  'title': 'Tom and Huck (1995)',\n",
       "  'genre_no_genres_listed': False,\n",
       "  'genre_action': False,\n",
       "  'genre_adventure': True,\n",
       "  'genre_animation': False,\n",
       "  'genre_children': True,\n",
       "  'genre_comedy': False,\n",
       "  'genre_crime': False,\n",
       "  'genre_documentary': False,\n",
       "  'genre_drama': False,\n",
       "  'genre_fantasy': False,\n",
       "  'genre_film_noir': False,\n",
       "  'genre_horror': False,\n",
       "  'genre_imax': False,\n",
       "  'genre_musical': False,\n",
       "  'genre_mystery': False,\n",
       "  'genre_romance': False,\n",
       "  'genre_sci_fi': False,\n",
       "  'genre_thriller': False,\n",
       "  'genre_war': False,\n",
       "  'genre_western': False},\n",
       " {'movieId': 9,\n",
       "  'title': 'Sudden Death (1995)',\n",
       "  'genre_no_genres_listed': False,\n",
       "  'genre_action': True,\n",
       "  'genre_adventure': False,\n",
       "  'genre_animation': False,\n",
       "  'genre_children': False,\n",
       "  'genre_comedy': False,\n",
       "  'genre_crime': False,\n",
       "  'genre_documentary': False,\n",
       "  'genre_drama': False,\n",
       "  'genre_fantasy': False,\n",
       "  'genre_film_noir': False,\n",
       "  'genre_horror': False,\n",
       "  'genre_imax': False,\n",
       "  'genre_musical': False,\n",
       "  'genre_mystery': False,\n",
       "  'genre_romance': False,\n",
       "  'genre_sci_fi': False,\n",
       "  'genre_thriller': False,\n",
       "  'genre_war': False,\n",
       "  'genre_western': False},\n",
       " {'movieId': 10,\n",
       "  'title': 'GoldenEye (1995)',\n",
       "  'genre_no_genres_listed': False,\n",
       "  'genre_action': True,\n",
       "  'genre_adventure': True,\n",
       "  'genre_animation': False,\n",
       "  'genre_children': False,\n",
       "  'genre_comedy': False,\n",
       "  'genre_crime': False,\n",
       "  'genre_documentary': False,\n",
       "  'genre_drama': False,\n",
       "  'genre_fantasy': False,\n",
       "  'genre_film_noir': False,\n",
       "  'genre_horror': False,\n",
       "  'genre_imax': False,\n",
       "  'genre_musical': False,\n",
       "  'genre_mystery': False,\n",
       "  'genre_romance': False,\n",
       "  'genre_sci_fi': False,\n",
       "  'genre_thriller': True,\n",
       "  'genre_war': False,\n",
       "  'genre_western': False}]"
      ]
     },
     "execution_count": 21,
     "metadata": {},
     "output_type": "execute_result"
    }
   ],
   "source": [
    "movies.to_dict(orient='records')[0:10]"
   ]
  },
  {
   "cell_type": "code",
   "execution_count": 22,
   "id": "155e36d3",
   "metadata": {},
   "outputs": [],
   "source": [
    "# Insert all of the stock data into the database\n",
    "for movie in movies.to_dict(orient=\"records\"):\n",
    "    movie = Movies(**movie)\n",
    "    try:\n",
    "        session.add(movie)\n",
    "        session.commit()\n",
    "\n",
    "    except Exception as e:\n",
    "        session.rollback()\n",
    "        print(f\"Exception inserting {str(movie)} into database: {e}\")"
   ]
  },
  {
   "cell_type": "markdown",
   "id": "3c8174fd",
   "metadata": {},
   "source": [
    "# Create and Upload Users"
   ]
  },
  {
   "cell_type": "code",
   "execution_count": 23,
   "id": "92efb547",
   "metadata": {},
   "outputs": [],
   "source": [
    "users = ratings.drop_duplicates(subset = ['userId'])\n",
    "users = users[['userId']]"
   ]
  },
  {
   "cell_type": "code",
   "execution_count": 24,
   "id": "0e97f301",
   "metadata": {},
   "outputs": [
    {
     "data": {
      "text/html": [
       "<div>\n",
       "<style scoped>\n",
       "    .dataframe tbody tr th:only-of-type {\n",
       "        vertical-align: middle;\n",
       "    }\n",
       "\n",
       "    .dataframe tbody tr th {\n",
       "        vertical-align: top;\n",
       "    }\n",
       "\n",
       "    .dataframe thead th {\n",
       "        text-align: right;\n",
       "    }\n",
       "</style>\n",
       "<table border=\"1\" class=\"dataframe\">\n",
       "  <thead>\n",
       "    <tr style=\"text-align: right;\">\n",
       "      <th></th>\n",
       "      <th>userId</th>\n",
       "    </tr>\n",
       "  </thead>\n",
       "  <tbody>\n",
       "    <tr>\n",
       "      <th>0</th>\n",
       "      <td>1</td>\n",
       "    </tr>\n",
       "    <tr>\n",
       "      <th>232</th>\n",
       "      <td>2</td>\n",
       "    </tr>\n",
       "    <tr>\n",
       "      <th>261</th>\n",
       "      <td>3</td>\n",
       "    </tr>\n",
       "    <tr>\n",
       "      <th>300</th>\n",
       "      <td>4</td>\n",
       "    </tr>\n",
       "    <tr>\n",
       "      <th>516</th>\n",
       "      <td>5</td>\n",
       "    </tr>\n",
       "    <tr>\n",
       "      <th>...</th>\n",
       "      <td>...</td>\n",
       "    </tr>\n",
       "    <tr>\n",
       "      <th>97364</th>\n",
       "      <td>606</td>\n",
       "    </tr>\n",
       "    <tr>\n",
       "      <th>98479</th>\n",
       "      <td>607</td>\n",
       "    </tr>\n",
       "    <tr>\n",
       "      <th>98666</th>\n",
       "      <td>608</td>\n",
       "    </tr>\n",
       "    <tr>\n",
       "      <th>99497</th>\n",
       "      <td>609</td>\n",
       "    </tr>\n",
       "    <tr>\n",
       "      <th>99534</th>\n",
       "      <td>610</td>\n",
       "    </tr>\n",
       "  </tbody>\n",
       "</table>\n",
       "<p>610 rows × 1 columns</p>\n",
       "</div>"
      ],
      "text/plain": [
       "       userId\n",
       "0           1\n",
       "232         2\n",
       "261         3\n",
       "300         4\n",
       "516         5\n",
       "...       ...\n",
       "97364     606\n",
       "98479     607\n",
       "98666     608\n",
       "99497     609\n",
       "99534     610\n",
       "\n",
       "[610 rows x 1 columns]"
      ]
     },
     "execution_count": 24,
     "metadata": {},
     "output_type": "execute_result"
    }
   ],
   "source": [
    "users"
   ]
  },
  {
   "cell_type": "code",
   "execution_count": 25,
   "id": "f3a88e21",
   "metadata": {},
   "outputs": [],
   "source": [
    "# Insert all of the stock data into the database\n",
    "for user in users.to_dict(orient=\"records\"):\n",
    "    user = MovieUsers(**user)\n",
    "    try:\n",
    "        session.add(user)\n",
    "        session.commit()\n",
    "\n",
    "    except Exception as e:\n",
    "        session.rollback()\n",
    "        print(f\"Exception inserting {str(movie)} into database: {e}\")"
   ]
  },
  {
   "cell_type": "markdown",
   "id": "acd5a09a",
   "metadata": {},
   "source": [
    "# Upload Ratings"
   ]
  },
  {
   "cell_type": "code",
   "execution_count": 26,
   "id": "5e593023",
   "metadata": {},
   "outputs": [],
   "source": [
    "ratings['timestamp'] = ratings['timestamp'].apply(datetime.fromtimestamp)"
   ]
  },
  {
   "cell_type": "code",
   "execution_count": 27,
   "id": "8b8070cf",
   "metadata": {},
   "outputs": [],
   "source": [
    "# Insert all of the stock data into the database\n",
    "for rating in ratings.to_dict(orient=\"records\"):\n",
    "    rating = Ratings(**rating)\n",
    "    try:\n",
    "        session.add(rating)\n",
    "        session.commit()\n",
    "\n",
    "    except Exception as e:\n",
    "        session.rollback()\n",
    "        print(f\"Exception inserting {str(rating)} into database: {e}\")"
   ]
  },
  {
   "cell_type": "markdown",
   "id": "f57c625e",
   "metadata": {},
   "source": [
    "# Upload Tags"
   ]
  },
  {
   "cell_type": "code",
   "execution_count": 28,
   "id": "3720ac2b",
   "metadata": {},
   "outputs": [],
   "source": [
    "tags['timestamp'] = tags['timestamp'].apply(datetime.fromtimestamp)"
   ]
  },
  {
   "cell_type": "code",
   "execution_count": 29,
   "id": "9345c081",
   "metadata": {},
   "outputs": [],
   "source": [
    "for tag in tags.to_dict(orient=\"records\"):\n",
    "    tag = Tags(**tag)\n",
    "    try:\n",
    "        session.add(tag)\n",
    "        session.commit()\n",
    "\n",
    "    except Exception as e:\n",
    "        session.rollback()\n",
    "        print(f\"Exception inserting {str(tag)} into database: {e}\")"
   ]
  },
  {
   "cell_type": "markdown",
   "id": "594e33f8",
   "metadata": {},
   "source": [
    "# Upload Links"
   ]
  },
  {
   "cell_type": "code",
   "execution_count": 30,
   "id": "274a2256",
   "metadata": {},
   "outputs": [],
   "source": [
    "links = links.replace({np.nan: None})"
   ]
  },
  {
   "cell_type": "code",
   "execution_count": 31,
   "id": "a16ead50",
   "metadata": {},
   "outputs": [],
   "source": [
    "for link in links.to_dict(orient=\"records\"):\n",
    "    link = Links(**link)\n",
    "    try:\n",
    "        session.add(link)\n",
    "        session.commit()\n",
    "\n",
    "    except Exception as e:\n",
    "        session.rollback()\n",
    "        print(f\"Exception inserting {str(tag)} into database: {e}\")"
   ]
  },
  {
   "cell_type": "markdown",
   "id": "7ee6d433",
   "metadata": {},
   "source": [
    "# Reading and Comparing"
   ]
  },
  {
   "cell_type": "markdown",
   "id": "bc5fc007",
   "metadata": {},
   "source": [
    "## Users"
   ]
  },
  {
   "cell_type": "code",
   "execution_count": 32,
   "id": "f509c922",
   "metadata": {},
   "outputs": [],
   "source": [
    "users_table = pd.read_sql_table(\n",
    "    \"movie_users\",\n",
    "    con=engine,\n",
    "    schema = \"movie_recommender\"\n",
    ")"
   ]
  },
  {
   "cell_type": "code",
   "execution_count": 33,
   "id": "2457a4ad",
   "metadata": {},
   "outputs": [],
   "source": [
    "users_table = users_table.sort_values(by = 'userId').reset_index(drop = True)\n",
    "users = users.sort_values(by = 'userId').reset_index(drop = True)"
   ]
  },
  {
   "cell_type": "code",
   "execution_count": 34,
   "id": "6792c92e",
   "metadata": {},
   "outputs": [
    {
     "data": {
      "text/plain": [
       "userId    610\n",
       "dtype: int64"
      ]
     },
     "execution_count": 34,
     "metadata": {},
     "output_type": "execute_result"
    }
   ],
   "source": [
    "(users_table == users).sum()"
   ]
  },
  {
   "cell_type": "markdown",
   "id": "c32f00bd",
   "metadata": {},
   "source": [
    "## Movies"
   ]
  },
  {
   "cell_type": "code",
   "execution_count": 35,
   "id": "bd7b1ade",
   "metadata": {},
   "outputs": [],
   "source": [
    "movies_table = pd.read_sql_table(\n",
    "    \"movies\",\n",
    "    con=engine,\n",
    "    schema = \"movie_recommender\"\n",
    ")"
   ]
  },
  {
   "cell_type": "code",
   "execution_count": null,
   "id": "b2872cfe",
   "metadata": {},
   "outputs": [],
   "source": []
  },
  {
   "cell_type": "code",
   "execution_count": 36,
   "id": "17d8524e",
   "metadata": {},
   "outputs": [],
   "source": [
    "movies_table = movies_table.sort_values(by = 'movieId').reset_index(drop = True)\n",
    "movies = movies.sort_values(by = 'movieId').reset_index(drop = True)"
   ]
  },
  {
   "cell_type": "code",
   "execution_count": 37,
   "id": "40ca0f53",
   "metadata": {
    "scrolled": true
   },
   "outputs": [
    {
     "data": {
      "text/plain": [
       "movieId                   9742\n",
       "title                     9742\n",
       "genre_no_genres_listed    9742\n",
       "genre_action              9742\n",
       "genre_adventure           9742\n",
       "genre_animation           9742\n",
       "genre_children            9742\n",
       "genre_comedy              9742\n",
       "genre_crime               9742\n",
       "genre_documentary         9742\n",
       "genre_drama               9742\n",
       "genre_fantasy             9742\n",
       "genre_film_noir           9742\n",
       "genre_horror              9742\n",
       "genre_imax                9742\n",
       "genre_musical             9742\n",
       "genre_mystery             9742\n",
       "genre_romance             9742\n",
       "genre_sci_fi              9742\n",
       "genre_thriller            9742\n",
       "genre_war                 9742\n",
       "genre_western             9742\n",
       "dtype: int64"
      ]
     },
     "execution_count": 37,
     "metadata": {},
     "output_type": "execute_result"
    }
   ],
   "source": [
    "(movies_table == movies).sum()"
   ]
  },
  {
   "cell_type": "markdown",
   "id": "00ea35ba",
   "metadata": {},
   "source": [
    "## Ratings"
   ]
  },
  {
   "cell_type": "code",
   "execution_count": 38,
   "id": "632e317d",
   "metadata": {},
   "outputs": [],
   "source": [
    "ratings_table = pd.read_sql_table(\n",
    "    \"ratings\",\n",
    "    con=engine,\n",
    "    schema = \"movie_recommender\"\n",
    ")"
   ]
  },
  {
   "cell_type": "code",
   "execution_count": 39,
   "id": "f5b749b7",
   "metadata": {},
   "outputs": [],
   "source": [
    "ratings_table = ratings_table.drop(columns='id').sort_values(by = ['userId','movieId']).reset_index(drop = True)\n",
    "ratings = ratings.sort_values(by = ['userId','movieId']).reset_index(drop = True)"
   ]
  },
  {
   "cell_type": "code",
   "execution_count": 40,
   "id": "7f09236a",
   "metadata": {},
   "outputs": [
    {
     "data": {
      "text/plain": [
       "userId       100836\n",
       "movieId      100836\n",
       "rating       100836\n",
       "timestamp    100836\n",
       "dtype: int64"
      ]
     },
     "execution_count": 40,
     "metadata": {},
     "output_type": "execute_result"
    }
   ],
   "source": [
    "(ratings_table == ratings).sum()"
   ]
  },
  {
   "cell_type": "markdown",
   "id": "34b95770",
   "metadata": {},
   "source": [
    "## Tags"
   ]
  },
  {
   "cell_type": "code",
   "execution_count": 41,
   "id": "d39b7161",
   "metadata": {},
   "outputs": [],
   "source": [
    "tags_table = pd.read_sql_table(\n",
    "    \"tags\",\n",
    "    con=engine,\n",
    "    schema = \"movie_recommender\"\n",
    ")"
   ]
  },
  {
   "cell_type": "code",
   "execution_count": 42,
   "id": "d46a7323",
   "metadata": {},
   "outputs": [],
   "source": [
    "tags_table = tags_table.drop(columns='id').sort_values(by = ['userId','movieId','timestamp']).reset_index(\n",
    "    drop = True)\n",
    "tags = tags.sort_values(by = ['userId','movieId','timestamp']).reset_index(drop = True)"
   ]
  },
  {
   "cell_type": "code",
   "execution_count": 43,
   "id": "73f112b2",
   "metadata": {},
   "outputs": [
    {
     "data": {
      "text/plain": [
       "userId       3683\n",
       "movieId      3683\n",
       "tag          3683\n",
       "timestamp    3683\n",
       "dtype: int64"
      ]
     },
     "execution_count": 43,
     "metadata": {},
     "output_type": "execute_result"
    }
   ],
   "source": [
    "(tags_table == tags).sum()"
   ]
  },
  {
   "cell_type": "markdown",
   "id": "4d6befe1",
   "metadata": {},
   "source": [
    "## Links"
   ]
  },
  {
   "cell_type": "code",
   "execution_count": 44,
   "id": "f6768c9e",
   "metadata": {},
   "outputs": [],
   "source": [
    "links_table = pd.read_sql_table(\n",
    "    \"links\",\n",
    "    con=engine,\n",
    "    schema = \"movie_recommender\"\n",
    ")"
   ]
  },
  {
   "cell_type": "code",
   "execution_count": 45,
   "id": "76e553c9",
   "metadata": {},
   "outputs": [],
   "source": [
    "links_table = links_table.drop(columns='id').sort_values(by = ['movieId']).reset_index(\n",
    "    drop = True)\n",
    "links = links.sort_values(by = ['movieId']).reset_index(drop = True)"
   ]
  },
  {
   "cell_type": "code",
   "execution_count": 46,
   "id": "88b09163",
   "metadata": {},
   "outputs": [
    {
     "data": {
      "text/plain": [
       "movieId    9742\n",
       "imdbId     9742\n",
       "tmdbId     9734\n",
       "dtype: int64"
      ]
     },
     "execution_count": 46,
     "metadata": {},
     "output_type": "execute_result"
    }
   ],
   "source": [
    "(links_table == links).sum()"
   ]
  }
 ],
 "metadata": {
  "kernelspec": {
   "display_name": "Python 3 (ipykernel)",
   "language": "python",
   "name": "python3"
  },
  "language_info": {
   "codemirror_mode": {
    "name": "ipython",
    "version": 3
   },
   "file_extension": ".py",
   "mimetype": "text/x-python",
   "name": "python",
   "nbconvert_exporter": "python",
   "pygments_lexer": "ipython3",
   "version": "3.8.12"
  },
  "toc": {
   "base_numbering": 1,
   "nav_menu": {},
   "number_sections": true,
   "sideBar": true,
   "skip_h1_title": false,
   "title_cell": "Table of Contents",
   "title_sidebar": "Contents",
   "toc_cell": false,
   "toc_position": {
    "height": "calc(100% - 180px)",
    "left": "10px",
    "top": "150px",
    "width": "288px"
   },
   "toc_section_display": true,
   "toc_window_display": true
  }
 },
 "nbformat": 4,
 "nbformat_minor": 5
}
